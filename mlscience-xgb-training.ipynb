{
 "cells": [
  {
   "cell_type": "markdown",
   "id": "2cb03e93-a162-4bd9-a05d-5af3b36c7737",
   "metadata": {},
   "source": [
    "---\n",
    "title: \"Training\"\n",
    "date: last-modified\n",
    "format: \n",
    "    html: \n",
    "        code-fold: false\n",
    "jupyter: python3\n",
    "---"
   ]
  },
  {
   "cell_type": "code",
   "execution_count": 1,
   "id": "7a3f292b-6eb1-42b5-80e2-f8e57907998d",
   "metadata": {},
   "outputs": [],
   "source": [
    "import numpy as np\n",
    "\n",
    "import xgboost as xgb"
   ]
  },
  {
   "cell_type": "markdown",
   "id": "5de23ecf-9a8e-4798-a8fa-7dc6d08c98f2",
   "metadata": {},
   "source": [
    "#### DATA AND PARAMETERS"
   ]
  },
  {
   "cell_type": "code",
   "execution_count": 2,
   "id": "1b66eb0f-3079-414a-b40c-670b1a1de427",
   "metadata": {},
   "outputs": [],
   "source": [
    "datatrain = np.random.rand(100, 5)\n",
    "datatest = np.random.rand(20, 5)\n",
    "\n",
    "labeltrain = np.random.randint(2, size=100)\n",
    "labeltest = np.random.randint(2, size=20)"
   ]
  },
  {
   "cell_type": "code",
   "execution_count": 3,
   "id": "72d2529f-5379-4581-9539-a890b9218e49",
   "metadata": {},
   "outputs": [],
   "source": [
    "dtrain = xgb.DMatrix(data=datatrain, label=labeltrain, missing=np.NaN)\n",
    "dtest = xgb.DMatrix(data=datatest, label=labeltest, missing=np.NaN)"
   ]
  },
  {
   "cell_type": "code",
   "execution_count": 4,
   "id": "42a05b0d-7cb1-4a80-972e-e40c274acf3f",
   "metadata": {},
   "outputs": [],
   "source": [
    "params = {\n",
    "    'max_depth': 2,\n",
    "    'eta': 1,\n",
    "    'objective': 'binary:logistic',\n",
    "    'nthread': 4,\n",
    "    'eval_metric': ['auc', 'aucpr']\n",
    "}\n",
    "\n",
    "evallist = [\n",
    "    (dtrain, 'train'),\n",
    "    (dtest, 'test')\n",
    "]\n",
    "\n",
    "NUM_BOOST_ROUND = 500\n",
    "EARLY_STOPPING_ROUNDS = 10"
   ]
  },
  {
   "cell_type": "markdown",
   "id": "c0eb552d-9f0f-4209-a6b4-b316d01496ff",
   "metadata": {
    "tags": []
   },
   "source": [
    "#### TRAINING A XGBOOST MODEL\n",
    "\n",
    "- Validation error needs to decrease at least every `early_stopping_rounds` to continue training.\n",
    "- If early stopping occurs, the model will have two additional fields: `bst.best_score`, `bst.best_iteration`. Note that `xgboost.train()` will return a model from the last iteration, not the best one.\n",
    "- Note that if you specify more than one evaluation metric the last one in `params['eval_metric']` is used for early stopping."
   ]
  },
  {
   "cell_type": "code",
   "execution_count": 5,
   "id": "ef0dbbd6-163c-42ee-8f33-a993bb427cd3",
   "metadata": {},
   "outputs": [
    {
     "name": "stdout",
     "output_type": "stream",
     "text": [
      "[0]\ttrain-auc:0.66954\ttrain-aucpr:0.63223\ttest-auc:0.45000\ttest-aucpr:0.47214\n",
      "[1]\ttrain-auc:0.73337\ttrain-aucpr:0.73544\ttest-auc:0.45500\ttest-aucpr:0.47955\n",
      "[2]\ttrain-auc:0.81486\ttrain-aucpr:0.82001\ttest-auc:0.51000\ttest-aucpr:0.49078\n",
      "[3]\ttrain-auc:0.86494\ttrain-aucpr:0.84077\ttest-auc:0.52000\ttest-aucpr:0.48684\n",
      "[4]\ttrain-auc:0.90558\ttrain-aucpr:0.87932\ttest-auc:0.34000\ttest-aucpr:0.39197\n",
      "[5]\ttrain-auc:0.93719\ttrain-aucpr:0.91281\ttest-auc:0.33000\ttest-aucpr:0.39475\n",
      "[6]\ttrain-auc:0.95033\ttrain-aucpr:0.93645\ttest-auc:0.33000\ttest-aucpr:0.38466\n",
      "[7]\ttrain-auc:0.94992\ttrain-aucpr:0.94102\ttest-auc:0.35000\ttest-aucpr:0.38874\n",
      "[8]\ttrain-auc:0.95998\ttrain-aucpr:0.95181\ttest-auc:0.39000\ttest-aucpr:0.40416\n",
      "[9]\ttrain-auc:0.96613\ttrain-aucpr:0.95756\ttest-auc:0.39000\ttest-aucpr:0.40416\n",
      "[10]\ttrain-auc:0.96880\ttrain-aucpr:0.96532\ttest-auc:0.43000\ttest-aucpr:0.43488\n",
      "[11]\ttrain-auc:0.97455\ttrain-aucpr:0.97430\ttest-auc:0.47000\ttest-aucpr:0.44865\n",
      "[12]\ttrain-auc:0.98727\ttrain-aucpr:0.98742\ttest-auc:0.48000\ttest-aucpr:0.45806\n"
     ]
    }
   ],
   "source": [
    "bst = xgb.train(params, dtrain, NUM_BOOST_ROUND, evals=evallist, early_stopping_rounds=EARLY_STOPPING_ROUNDS)"
   ]
  },
  {
   "cell_type": "code",
   "execution_count": 6,
   "id": "91a4d640-fade-407b-800f-33962437d8d9",
   "metadata": {},
   "outputs": [
    {
     "data": {
      "text/plain": [
       "2"
      ]
     },
     "execution_count": 6,
     "metadata": {},
     "output_type": "execute_result"
    }
   ],
   "source": [
    "bst.best_iteration"
   ]
  },
  {
   "cell_type": "code",
   "execution_count": 7,
   "id": "6044e9d4-246a-4787-94b0-bec25f833a18",
   "metadata": {},
   "outputs": [
    {
     "data": {
      "text/plain": [
       "0.4907757515714366"
      ]
     },
     "execution_count": 7,
     "metadata": {},
     "output_type": "execute_result"
    }
   ],
   "source": [
    "bst.best_score"
   ]
  },
  {
   "cell_type": "code",
   "execution_count": 8,
   "id": "088aa256-8dc4-41b5-aa5b-c3f801dce829",
   "metadata": {
    "tags": []
   },
   "outputs": [
    {
     "name": "stdout",
     "output_type": "stream",
     "text": [
      "[0]\tvalidation_0-auc:0.45000\tvalidation_0-aucpr:0.47214\n",
      "[1]\tvalidation_0-auc:0.45500\tvalidation_0-aucpr:0.47955\n",
      "[2]\tvalidation_0-auc:0.44500\tvalidation_0-aucpr:0.46638\n",
      "[3]\tvalidation_0-auc:0.46000\tvalidation_0-aucpr:0.53426\n",
      "[4]\tvalidation_0-auc:0.27000\tvalidation_0-aucpr:0.36721\n",
      "[5]\tvalidation_0-auc:0.27000\tvalidation_0-aucpr:0.36733\n",
      "[6]\tvalidation_0-auc:0.36000\tvalidation_0-aucpr:0.39953\n",
      "[7]\tvalidation_0-auc:0.39000\tvalidation_0-aucpr:0.41427\n",
      "[8]\tvalidation_0-auc:0.44000\tvalidation_0-aucpr:0.43541\n",
      "[9]\tvalidation_0-auc:0.41000\tvalidation_0-aucpr:0.41381\n",
      "[10]\tvalidation_0-auc:0.41000\tvalidation_0-aucpr:0.41305\n",
      "[11]\tvalidation_0-auc:0.37000\tvalidation_0-aucpr:0.40028\n",
      "[12]\tvalidation_0-auc:0.38000\tvalidation_0-aucpr:0.40333\n",
      "[13]\tvalidation_0-auc:0.37000\tvalidation_0-aucpr:0.39811\n"
     ]
    },
    {
     "data": {
      "text/html": [
       "<style>#sk-container-id-1 {color: black;background-color: white;}#sk-container-id-1 pre{padding: 0;}#sk-container-id-1 div.sk-toggleable {background-color: white;}#sk-container-id-1 label.sk-toggleable__label {cursor: pointer;display: block;width: 100%;margin-bottom: 0;padding: 0.3em;box-sizing: border-box;text-align: center;}#sk-container-id-1 label.sk-toggleable__label-arrow:before {content: \"▸\";float: left;margin-right: 0.25em;color: #696969;}#sk-container-id-1 label.sk-toggleable__label-arrow:hover:before {color: black;}#sk-container-id-1 div.sk-estimator:hover label.sk-toggleable__label-arrow:before {color: black;}#sk-container-id-1 div.sk-toggleable__content {max-height: 0;max-width: 0;overflow: hidden;text-align: left;background-color: #f0f8ff;}#sk-container-id-1 div.sk-toggleable__content pre {margin: 0.2em;color: black;border-radius: 0.25em;background-color: #f0f8ff;}#sk-container-id-1 input.sk-toggleable__control:checked~div.sk-toggleable__content {max-height: 200px;max-width: 100%;overflow: auto;}#sk-container-id-1 input.sk-toggleable__control:checked~label.sk-toggleable__label-arrow:before {content: \"▾\";}#sk-container-id-1 div.sk-estimator input.sk-toggleable__control:checked~label.sk-toggleable__label {background-color: #d4ebff;}#sk-container-id-1 div.sk-label input.sk-toggleable__control:checked~label.sk-toggleable__label {background-color: #d4ebff;}#sk-container-id-1 input.sk-hidden--visually {border: 0;clip: rect(1px 1px 1px 1px);clip: rect(1px, 1px, 1px, 1px);height: 1px;margin: -1px;overflow: hidden;padding: 0;position: absolute;width: 1px;}#sk-container-id-1 div.sk-estimator {font-family: monospace;background-color: #f0f8ff;border: 1px dotted black;border-radius: 0.25em;box-sizing: border-box;margin-bottom: 0.5em;}#sk-container-id-1 div.sk-estimator:hover {background-color: #d4ebff;}#sk-container-id-1 div.sk-parallel-item::after {content: \"\";width: 100%;border-bottom: 1px solid gray;flex-grow: 1;}#sk-container-id-1 div.sk-label:hover label.sk-toggleable__label {background-color: #d4ebff;}#sk-container-id-1 div.sk-serial::before {content: \"\";position: absolute;border-left: 1px solid gray;box-sizing: border-box;top: 0;bottom: 0;left: 50%;z-index: 0;}#sk-container-id-1 div.sk-serial {display: flex;flex-direction: column;align-items: center;background-color: white;padding-right: 0.2em;padding-left: 0.2em;position: relative;}#sk-container-id-1 div.sk-item {position: relative;z-index: 1;}#sk-container-id-1 div.sk-parallel {display: flex;align-items: stretch;justify-content: center;background-color: white;position: relative;}#sk-container-id-1 div.sk-item::before, #sk-container-id-1 div.sk-parallel-item::before {content: \"\";position: absolute;border-left: 1px solid gray;box-sizing: border-box;top: 0;bottom: 0;left: 50%;z-index: -1;}#sk-container-id-1 div.sk-parallel-item {display: flex;flex-direction: column;z-index: 1;position: relative;background-color: white;}#sk-container-id-1 div.sk-parallel-item:first-child::after {align-self: flex-end;width: 50%;}#sk-container-id-1 div.sk-parallel-item:last-child::after {align-self: flex-start;width: 50%;}#sk-container-id-1 div.sk-parallel-item:only-child::after {width: 0;}#sk-container-id-1 div.sk-dashed-wrapped {border: 1px dashed gray;margin: 0 0.4em 0.5em 0.4em;box-sizing: border-box;padding-bottom: 0.4em;background-color: white;}#sk-container-id-1 div.sk-label label {font-family: monospace;font-weight: bold;display: inline-block;line-height: 1.2em;}#sk-container-id-1 div.sk-label-container {text-align: center;}#sk-container-id-1 div.sk-container {/* jupyter's `normalize.less` sets `[hidden] { display: none; }` but bootstrap.min.css set `[hidden] { display: none !important; }` so we also need the `!important` here to be able to override the default hidden behavior on the sphinx rendered scikit-learn.org. See: https://github.com/scikit-learn/scikit-learn/issues/21755 */display: inline-block !important;position: relative;}#sk-container-id-1 div.sk-text-repr-fallback {display: none;}</style><div id=\"sk-container-id-1\" class=\"sk-top-container\"><div class=\"sk-text-repr-fallback\"><pre>XGBClassifier(base_score=0.5, booster=&#x27;gbtree&#x27;, callbacks=None,\n",
       "              colsample_bylevel=1, colsample_bynode=1, colsample_bytree=1,\n",
       "              early_stopping_rounds=10, enable_categorical=False, eta=1,\n",
       "              eval_metric=[&#x27;auc&#x27;, &#x27;aucpr&#x27;], feature_types=None, gamma=0,\n",
       "              gpu_id=0, grow_policy=&#x27;depthwise&#x27;, importance_type=None,\n",
       "              interaction_constraints=&#x27;&#x27;, learning_rate=1, max_bin=256,\n",
       "              max_cat_threshold=64, max_cat_to_onehot=4, max_delta_step=0,\n",
       "              max_depth=2, max_leaves=0, min_child_weight=1, missing=nan,\n",
       "              monotone_constraints=&#x27;()&#x27;, n_estimators=500, n_jobs=4, nthread=4,\n",
       "              num_parallel_tree=1, ...)</pre><b>In a Jupyter environment, please rerun this cell to show the HTML representation or trust the notebook. <br />On GitHub, the HTML representation is unable to render, please try loading this page with nbviewer.org.</b></div><div class=\"sk-container\" hidden><div class=\"sk-item\"><div class=\"sk-estimator sk-toggleable\"><input class=\"sk-toggleable__control sk-hidden--visually\" id=\"sk-estimator-id-1\" type=\"checkbox\" checked><label for=\"sk-estimator-id-1\" class=\"sk-toggleable__label sk-toggleable__label-arrow\">XGBClassifier</label><div class=\"sk-toggleable__content\"><pre>XGBClassifier(base_score=0.5, booster=&#x27;gbtree&#x27;, callbacks=None,\n",
       "              colsample_bylevel=1, colsample_bynode=1, colsample_bytree=1,\n",
       "              early_stopping_rounds=10, enable_categorical=False, eta=1,\n",
       "              eval_metric=[&#x27;auc&#x27;, &#x27;aucpr&#x27;], feature_types=None, gamma=0,\n",
       "              gpu_id=0, grow_policy=&#x27;depthwise&#x27;, importance_type=None,\n",
       "              interaction_constraints=&#x27;&#x27;, learning_rate=1, max_bin=256,\n",
       "              max_cat_threshold=64, max_cat_to_onehot=4, max_delta_step=0,\n",
       "              max_depth=2, max_leaves=0, min_child_weight=1, missing=nan,\n",
       "              monotone_constraints=&#x27;()&#x27;, n_estimators=500, n_jobs=4, nthread=4,\n",
       "              num_parallel_tree=1, ...)</pre></div></div></div></div></div>"
      ],
      "text/plain": [
       "XGBClassifier(base_score=0.5, booster='gbtree', callbacks=None,\n",
       "              colsample_bylevel=1, colsample_bynode=1, colsample_bytree=1,\n",
       "              early_stopping_rounds=10, enable_categorical=False, eta=1,\n",
       "              eval_metric=['auc', 'aucpr'], feature_types=None, gamma=0,\n",
       "              gpu_id=0, grow_policy='depthwise', importance_type=None,\n",
       "              interaction_constraints='', learning_rate=1, max_bin=256,\n",
       "              max_cat_threshold=64, max_cat_to_onehot=4, max_delta_step=0,\n",
       "              max_depth=2, max_leaves=0, min_child_weight=1, missing=nan,\n",
       "              monotone_constraints='()', n_estimators=500, n_jobs=4, nthread=4,\n",
       "              num_parallel_tree=1, ...)"
      ]
     },
     "execution_count": 8,
     "metadata": {},
     "output_type": "execute_result"
    }
   ],
   "source": [
    "clf = xgb.XGBClassifier(n_estimators=NUM_BOOST_ROUND, missing=np.NaN, early_stopping_rounds=EARLY_STOPPING_ROUNDS, tree_method='gpu_hist', **params)\n",
    "clf.fit(datatrain, labeltrain, eval_set=[(datatest, labeltest)])"
   ]
  },
  {
   "cell_type": "code",
   "execution_count": 9,
   "id": "d7ccf55b-a3d1-4225-9c98-13617abdb25c",
   "metadata": {
    "tags": []
   },
   "outputs": [
    {
     "data": {
      "text/plain": [
       "3"
      ]
     },
     "execution_count": 9,
     "metadata": {},
     "output_type": "execute_result"
    }
   ],
   "source": [
    "clf.best_iteration"
   ]
  },
  {
   "cell_type": "code",
   "execution_count": 10,
   "id": "4d18edab-52bf-41a9-92bf-22990063f7fd",
   "metadata": {
    "tags": []
   },
   "outputs": [
    {
     "data": {
      "text/plain": [
       "0.5342577697455242"
      ]
     },
     "execution_count": 10,
     "metadata": {},
     "output_type": "execute_result"
    }
   ],
   "source": [
    "clf.best_score"
   ]
  },
  {
   "cell_type": "code",
   "execution_count": 11,
   "id": "ec2a3c22-9863-4b71-9860-32b56554785b",
   "metadata": {},
   "outputs": [],
   "source": [
    "bst = clf.get_booster()"
   ]
  },
  {
   "cell_type": "markdown",
   "id": "4eb1d112-b7b6-46ca-b84a-60e7bcf345d7",
   "metadata": {
    "tags": []
   },
   "source": [
    "#### SAVING A XGBOOST MODEL"
   ]
  },
  {
   "cell_type": "code",
   "execution_count": 22,
   "id": "b5664d09-0cd6-453c-b77b-53eaab6af281",
   "metadata": {},
   "outputs": [],
   "source": [
    "bst.save_model('0001.json')"
   ]
  },
  {
   "cell_type": "markdown",
   "id": "000d587c-f477-41f8-801b-11a9d07c8e8c",
   "metadata": {
    "tags": []
   },
   "source": [
    "#### DUMPING A XGBOOST MODEL"
   ]
  },
  {
   "cell_type": "code",
   "execution_count": 21,
   "id": "1f3b38d5-f128-4af7-93ba-43fd0c081c01",
   "metadata": {},
   "outputs": [],
   "source": [
    "bst.dump_model('dump.raw.txt')"
   ]
  },
  {
   "cell_type": "markdown",
   "id": "83eb92a0-4f0a-47d7-a71c-48a513e019c9",
   "metadata": {
    "tags": []
   },
   "source": [
    "#### LOADING A XGBOOST MODEL"
   ]
  },
  {
   "cell_type": "code",
   "execution_count": 23,
   "id": "d607e39b-ace0-49bd-95af-88d35c11c283",
   "metadata": {},
   "outputs": [],
   "source": [
    "bst = xgb.Booster({'nthread': 4})\n",
    "bst.load_model('0001.json')"
   ]
  },
  {
   "cell_type": "markdown",
   "id": "8b6a8251-a6ac-47b5-91ba-7fb0a2a25fc2",
   "metadata": {
    "tags": []
   },
   "source": [
    "#### PREDICTIONS WITH XGBOOST\n",
    "- When `pred_leaf=True`, the output will be a matrix of `(nsample, ntrees)` with each record indicating the predicted leaf index of each sample in each tree. Note that the leaf index of a tree is unique per tree, so you may find leaf 1 in both tree 1 and tree 0."
   ]
  },
  {
   "cell_type": "code",
   "execution_count": 13,
   "id": "3e58fd1f-78a8-49a8-8b5c-bbb4263ccf34",
   "metadata": {},
   "outputs": [],
   "source": [
    "data = np.random.rand(5, 5)\n",
    "dnew = xgb.DMatrix(data)"
   ]
  },
  {
   "cell_type": "code",
   "execution_count": 14,
   "id": "bc48f4b5-3cbb-4595-859e-f2345ab70192",
   "metadata": {},
   "outputs": [],
   "source": [
    "ypred = bst.predict(dnew, iteration_range=(0, bst.best_iteration + 1), pred_leaf=True)"
   ]
  },
  {
   "cell_type": "code",
   "execution_count": 15,
   "id": "5cd89f06-23c5-4b4d-ad8d-66a6ba8ea7eb",
   "metadata": {},
   "outputs": [
    {
     "data": {
      "text/plain": [
       "array([[3., 3., 6., 4.],\n",
       "       [4., 6., 4., 5.],\n",
       "       [4., 5., 3., 6.],\n",
       "       [3., 3., 6., 6.],\n",
       "       [4., 6., 3., 3.]], dtype=float32)"
      ]
     },
     "execution_count": 15,
     "metadata": {},
     "output_type": "execute_result"
    }
   ],
   "source": [
    "ypred"
   ]
  },
  {
   "cell_type": "markdown",
   "id": "05f0d3e9-e92f-4d43-8f06-1ff9db884f46",
   "metadata": {
    "tags": []
   },
   "source": [
    "#### PLOTTING FEATURE IMPORTANCE"
   ]
  },
  {
   "cell_type": "code",
   "execution_count": 16,
   "id": "1a106698-47df-4c99-994b-689ea9e8f973",
   "metadata": {},
   "outputs": [
    {
     "data": {
      "text/plain": [
       "<AxesSubplot: title={'center': 'Feature importance'}, xlabel='F score', ylabel='Features'>"
      ]
     },
     "execution_count": 16,
     "metadata": {},
     "output_type": "execute_result"
    },
    {
     "data": {
      "image/png": "[encoded data removed]",
      "text/plain": [
       "<Figure size 640x480 with 1 Axes>"
      ]
     },
     "metadata": {},
     "output_type": "display_data"
    }
   ],
   "source": [
    "xgb.plot_importance(bst)"
   ]
  },
  {
   "cell_type": "markdown",
   "id": "1beedf8b-9ecf-4d50-8d43-0117ab22c7ba",
   "metadata": {
    "tags": []
   },
   "source": [
    "#### CROSS-VALIDATION AND OOT"
   ]
  },
  {
   "cell_type": "code",
   "execution_count": 17,
   "id": "92ebc6bb-d2e1-4cfa-8025-eec7839f7253",
   "metadata": {},
   "outputs": [],
   "source": [
    "datatrain = np.random.rand(1000, 10)\n",
    "dataoot = np.random.rand(200, 10)\n",
    "\n",
    "labeltrain = np.random.randint(2, size=1000)\n",
    "labeloot = np.random.randint(2, size=200)"
   ]
  },
  {
   "cell_type": "code",
   "execution_count": 18,
   "id": "70ee7a44-6019-4f49-8694-62ebd5e5782c",
   "metadata": {},
   "outputs": [],
   "source": [
    "dtrain = xgb.DMatrix(data=datatrain, label=labeltrain, missing=np.NaN)\n",
    "doot = xgb.DMatrix(data=dataoot, label=labeloot, missing=np.NaN)"
   ]
  },
  {
   "cell_type": "code",
   "execution_count": 10,
   "id": "e0fb9a96-57ed-4b85-946d-878513c847a1",
   "metadata": {},
   "outputs": [],
   "source": [
    "params = {\n",
    "    'max_depth': 2,\n",
    "    'eta': 1,\n",
    "    'objective': 'binary:logistic',\n",
    "    'nthread': 4\n",
    "}\n",
    "\n",
    "NUM_BOOST_ROUND = 500"
   ]
  },
  {
   "cell_type": "code",
   "execution_count": 19,
   "id": "f3d84399-aa0f-4496-ba9b-651724167c62",
   "metadata": {},
   "outputs": [
    {
     "name": "stdout",
     "output_type": "stream",
     "text": [
      "[0]\ttrain-auc:0.55647+0.00953\ttrain-aucpr:0.57708+0.02397\ttest-auc:0.49649+0.02882\ttest-aucpr:0.52253+0.01252\n",
      "[1]\ttrain-auc:0.59914+0.01265\ttrain-aucpr:0.60745+0.02245\ttest-auc:0.49456+0.02853\ttest-aucpr:0.52663+0.02163\n",
      "[2]\ttrain-auc:0.63829+0.01484\ttrain-aucpr:0.64722+0.01650\ttest-auc:0.48661+0.04454\ttest-aucpr:0.52861+0.01335\n",
      "[3]\ttrain-auc:0.66261+0.01058\ttrain-aucpr:0.66830+0.01167\ttest-auc:0.52029+0.04140\ttest-aucpr:0.55483+0.02502\n",
      "[4]\ttrain-auc:0.68336+0.01220\ttrain-aucpr:0.69439+0.01197\ttest-auc:0.51997+0.03441\ttest-aucpr:0.55139+0.03425\n",
      "[5]\ttrain-auc:0.69910+0.01080\ttrain-aucpr:0.70717+0.01466\ttest-auc:0.50591+0.01857\ttest-aucpr:0.54013+0.03517\n",
      "[6]\ttrain-auc:0.70976+0.01080\ttrain-aucpr:0.72240+0.01110\ttest-auc:0.51224+0.02176\ttest-aucpr:0.54348+0.04185\n",
      "[7]\ttrain-auc:0.72729+0.00819\ttrain-aucpr:0.73624+0.01045\ttest-auc:0.52051+0.02107\ttest-aucpr:0.55589+0.04255\n",
      "[8]\ttrain-auc:0.74275+0.01089\ttrain-aucpr:0.75185+0.00881\ttest-auc:0.50883+0.02781\ttest-aucpr:0.54722+0.05089\n",
      "[9]\ttrain-auc:0.75611+0.01011\ttrain-aucpr:0.76303+0.01367\ttest-auc:0.50835+0.02802\ttest-aucpr:0.54568+0.04668\n",
      "[10]\ttrain-auc:0.76404+0.01031\ttrain-aucpr:0.77183+0.01504\ttest-auc:0.51847+0.02456\ttest-aucpr:0.55166+0.05187\n",
      "[11]\ttrain-auc:0.77157+0.01082\ttrain-aucpr:0.78107+0.01443\ttest-auc:0.52065+0.03343\ttest-aucpr:0.54940+0.05595\n"
     ]
    }
   ],
   "source": [
    "res = xgb.cv(\n",
    "    params, \n",
    "    dtrain, \n",
    "    NUM_BOOST_ROUND, \n",
    "    nfold=5, \n",
    "    metrics=['auc', 'aucpr'], \n",
    "    seed=222437, \n",
    "    callbacks=[\n",
    "        xgb.callback.EvaluationMonitor(show_stdv=True),\n",
    "        xgb.callback.EarlyStopping(5)\n",
    "    ]\n",
    ")"
   ]
  },
  {
   "cell_type": "code",
   "execution_count": 22,
   "id": "a5066f18-e0c2-4bd7-bc46-5b23f673659e",
   "metadata": {},
   "outputs": [
    {
     "data": {
      "text/html": [
       "<div>\n",
       "<style scoped>\n",
       "    .dataframe tbody tr th:only-of-type {\n",
       "        vertical-align: middle;\n",
       "    }\n",
       "\n",
       "    .dataframe tbody tr th {\n",
       "        vertical-align: top;\n",
       "    }\n",
       "\n",
       "    .dataframe thead th {\n",
       "        text-align: right;\n",
       "    }\n",
       "</style>\n",
       "<table border=\"1\" class=\"dataframe\">\n",
       "  <thead>\n",
       "    <tr style=\"text-align: right;\">\n",
       "      <th></th>\n",
       "      <th>train-auc-mean</th>\n",
       "      <th>train-auc-std</th>\n",
       "      <th>train-aucpr-mean</th>\n",
       "      <th>train-aucpr-std</th>\n",
       "      <th>test-auc-mean</th>\n",
       "      <th>test-auc-std</th>\n",
       "      <th>test-aucpr-mean</th>\n",
       "      <th>test-aucpr-std</th>\n",
       "    </tr>\n",
       "  </thead>\n",
       "  <tbody>\n",
       "    <tr>\n",
       "      <th>0</th>\n",
       "      <td>0.556470</td>\n",
       "      <td>0.009534</td>\n",
       "      <td>0.577082</td>\n",
       "      <td>0.023972</td>\n",
       "      <td>0.496490</td>\n",
       "      <td>0.028815</td>\n",
       "      <td>0.522534</td>\n",
       "      <td>0.012522</td>\n",
       "    </tr>\n",
       "    <tr>\n",
       "      <th>1</th>\n",
       "      <td>0.599144</td>\n",
       "      <td>0.012653</td>\n",
       "      <td>0.607454</td>\n",
       "      <td>0.022448</td>\n",
       "      <td>0.494562</td>\n",
       "      <td>0.028526</td>\n",
       "      <td>0.526635</td>\n",
       "      <td>0.021635</td>\n",
       "    </tr>\n",
       "    <tr>\n",
       "      <th>2</th>\n",
       "      <td>0.638286</td>\n",
       "      <td>0.014843</td>\n",
       "      <td>0.647217</td>\n",
       "      <td>0.016498</td>\n",
       "      <td>0.486609</td>\n",
       "      <td>0.044537</td>\n",
       "      <td>0.528613</td>\n",
       "      <td>0.013351</td>\n",
       "    </tr>\n",
       "    <tr>\n",
       "      <th>3</th>\n",
       "      <td>0.662606</td>\n",
       "      <td>0.010579</td>\n",
       "      <td>0.668297</td>\n",
       "      <td>0.011673</td>\n",
       "      <td>0.520289</td>\n",
       "      <td>0.041399</td>\n",
       "      <td>0.554833</td>\n",
       "      <td>0.025017</td>\n",
       "    </tr>\n",
       "    <tr>\n",
       "      <th>4</th>\n",
       "      <td>0.683358</td>\n",
       "      <td>0.012200</td>\n",
       "      <td>0.694390</td>\n",
       "      <td>0.011973</td>\n",
       "      <td>0.519974</td>\n",
       "      <td>0.034414</td>\n",
       "      <td>0.551391</td>\n",
       "      <td>0.034247</td>\n",
       "    </tr>\n",
       "    <tr>\n",
       "      <th>5</th>\n",
       "      <td>0.699100</td>\n",
       "      <td>0.010802</td>\n",
       "      <td>0.707166</td>\n",
       "      <td>0.014657</td>\n",
       "      <td>0.505906</td>\n",
       "      <td>0.018565</td>\n",
       "      <td>0.540129</td>\n",
       "      <td>0.035171</td>\n",
       "    </tr>\n",
       "    <tr>\n",
       "      <th>6</th>\n",
       "      <td>0.709756</td>\n",
       "      <td>0.010800</td>\n",
       "      <td>0.722399</td>\n",
       "      <td>0.011104</td>\n",
       "      <td>0.512239</td>\n",
       "      <td>0.021760</td>\n",
       "      <td>0.543479</td>\n",
       "      <td>0.041852</td>\n",
       "    </tr>\n",
       "    <tr>\n",
       "      <th>7</th>\n",
       "      <td>0.727293</td>\n",
       "      <td>0.008187</td>\n",
       "      <td>0.736236</td>\n",
       "      <td>0.010451</td>\n",
       "      <td>0.520511</td>\n",
       "      <td>0.021068</td>\n",
       "      <td>0.555886</td>\n",
       "      <td>0.042554</td>\n",
       "    </tr>\n",
       "  </tbody>\n",
       "</table>\n",
       "</div>"
      ],
      "text/plain": [
       "   train-auc-mean  train-auc-std  train-aucpr-mean  train-aucpr-std  \\\n",
       "0        0.556470       0.009534          0.577082         0.023972   \n",
       "1        0.599144       0.012653          0.607454         0.022448   \n",
       "2        0.638286       0.014843          0.647217         0.016498   \n",
       "3        0.662606       0.010579          0.668297         0.011673   \n",
       "4        0.683358       0.012200          0.694390         0.011973   \n",
       "5        0.699100       0.010802          0.707166         0.014657   \n",
       "6        0.709756       0.010800          0.722399         0.011104   \n",
       "7        0.727293       0.008187          0.736236         0.010451   \n",
       "\n",
       "   test-auc-mean  test-auc-std  test-aucpr-mean  test-aucpr-std  \n",
       "0       0.496490      0.028815         0.522534        0.012522  \n",
       "1       0.494562      0.028526         0.526635        0.021635  \n",
       "2       0.486609      0.044537         0.528613        0.013351  \n",
       "3       0.520289      0.041399         0.554833        0.025017  \n",
       "4       0.519974      0.034414         0.551391        0.034247  \n",
       "5       0.505906      0.018565         0.540129        0.035171  \n",
       "6       0.512239      0.021760         0.543479        0.041852  \n",
       "7       0.520511      0.021068         0.555886        0.042554  "
      ]
     },
     "execution_count": 22,
     "metadata": {},
     "output_type": "execute_result"
    }
   ],
   "source": [
    "res"
   ]
  },
  {
   "cell_type": "markdown",
   "id": "4c7df45c-214e-4408-8e08-f73888c2e93f",
   "metadata": {
    "tags": []
   },
   "source": [
    "#### USING DATA ITERATOR WITH QUANTILE DMATRIX\n",
    "- Passing batches of data into `xgboost.DeviceQuantileDMatrix` and use this `DeviceQuantileDMatrix` for training. The feature is used primarily designed to reduce the required GPU memory for training on distributed environment."
   ]
  },
  {
   "cell_type": "code",
   "execution_count": null,
   "id": "5a7135e1-b3b0-4e50-86ed-50efc04f04ac",
   "metadata": {},
   "outputs": [],
   "source": [
    "import cupy"
   ]
  },
  {
   "cell_type": "code",
   "execution_count": null,
   "id": "52e2e542-ee78-4488-9c06-8058aebb5707",
   "metadata": {},
   "outputs": [],
   "source": [
    "COLS = 64\n",
    "ROWS_PER_BATCH = 1000\n",
    "BATCHES = 32\n",
    "NUM_BOOST_ROUND = 500"
   ]
  },
  {
   "cell_type": "code",
   "execution_count": null,
   "id": "ae9d38eb-4927-44db-9cc4-b2d8301a46bb",
   "metadata": {},
   "outputs": [],
   "source": [
    "class IterForDMatrixDemo(xgb.core.DataIter):\n",
    "    '''A data iterator for XGBoost DMatrix.\n",
    "\n",
    "    `reset` and `next` are required for any data iterator, other functions here\n",
    "    are utilites for demonstration's purpose.\n",
    "\n",
    "    '''\n",
    "    def __init__(self):\n",
    "        '''Generate some random data for demostration.\n",
    "\n",
    "        Actual data can be anything that is currently supported by XGBoost.\n",
    "        '''\n",
    "        self.rows = ROWS_PER_BATCH\n",
    "        self.cols = COLS\n",
    "        rng = cupy.random.RandomState(1994)\n",
    "        self._data = [rng.randn(self.rows, self.cols)] * BATCHES\n",
    "        self._labels = [rng.randn(self.rows)] * BATCHES\n",
    "        self._weights = [rng.uniform(size=self.rows)] * BATCHES\n",
    "\n",
    "        self.it = 0\n",
    "        super().__init__()\n",
    "        \n",
    "    def data(self):\n",
    "        '''Utility function for obtaining current batch of data.'''\n",
    "        return self._data[self.it]\n",
    "\n",
    "    def labels(self):\n",
    "        '''Utility function for obtaining current batch of label.'''\n",
    "        return self._labels[self.it]\n",
    "\n",
    "    def weights(self):\n",
    "        '''Utility function for obtaining current batch of weights.'''\n",
    "        return self._weights[self.it]\n",
    "\n",
    "    def reset(self):\n",
    "        '''Reset the iterator'''\n",
    "        self.it = 0\n",
    "\n",
    "    def next(self, input_data):\n",
    "        '''Yield next batch of data.'''\n",
    "        if self.it == len(self._data):\n",
    "            # Return 0 when there's no more batch.\n",
    "            return 0\n",
    "        input_data(\n",
    "            data=self.data(), \n",
    "            label=self.labels(),\n",
    "            weight=self.weights()\n",
    "        )\n",
    "        self.it += 1\n",
    "        return 1"
   ]
  },
  {
   "cell_type": "code",
   "execution_count": null,
   "id": "b279f3b8-a626-4aaf-85e9-2c32718b0304",
   "metadata": {},
   "outputs": [],
   "source": [
    "it = IterForDMatrixDemo()\n",
    "m_with_it = xgb.DeviceQuantileDMatrix(it)"
   ]
  },
  {
   "cell_type": "code",
   "execution_count": null,
   "id": "d341a856-b093-48b1-a44d-66e8cc5787d4",
   "metadata": {},
   "outputs": [],
   "source": [
    "reg_with_it = xgb.train(\n",
    "    param={\n",
    "        'tree_method': 'gpu_hist'\n",
    "    }, \n",
    "    m_with_it,\n",
    "    num_boost_round=NUM_BOOST_ROUND\n",
    ")"
   ]
  },
  {
   "cell_type": "code",
   "execution_count": null,
   "id": "d9eccfe1-a847-4e14-b270-c4f1d5936399",
   "metadata": {},
   "outputs": [],
   "source": [
    "predict_with_it = reg_with_it.predict(m_with_it)"
   ]
  },
  {
   "cell_type": "markdown",
   "id": "5fc9634b-7d37-47e5-847f-bc208a12a2f1",
   "metadata": {
    "tags": []
   },
   "source": [
    "#### SPARK ESTIMATOR INTERFACE"
   ]
  },
  {
   "cell_type": "code",
   "execution_count": null,
   "id": "fe0306fe-5740-4b16-b1ec-c42715cd5dd6",
   "metadata": {},
   "outputs": [],
   "source": [
    "import pyspark.sql.functions as f\n",
    "from pyspark.sql.types import *\n",
    "\n",
    "import optuna\n",
    "from xgboost.spark import SparkXGBClassifier\n",
    "\n",
    "from pyspark.ml.feature import VectorAssembler\n",
    "from pyspark.ml.evaluation import BinaryClassificationEvaluator\n",
    "from pyspark.ml.tuning import CrossValidator, ParamGridBuilder\n",
    "from pyspark.ml.functions import vector_to_array"
   ]
  },
  {
   "cell_type": "code",
   "execution_count": null,
   "id": "800e4afd-4e67-4818-8fd4-3fe0d827350c",
   "metadata": {},
   "outputs": [],
   "source": [
    "pdf = pd.DataFrame(\n",
    "  data=np.concatenate((datatrain, labeltrain.reshape(-1, 1)), axis=1),\n",
    "  columns=[f'f{str(x).zfill(2)}' for x in range(datatrain.shape[1])] + ['label']\n",
    ")\n",
    "\n",
    "df = spark.createDataFrame(pdf)"
   ]
  },
  {
   "cell_type": "code",
   "execution_count": null,
   "id": "e6668e43-f949-49f8-8240-cd28261e1672",
   "metadata": {},
   "outputs": [],
   "source": [
    "vecassembler = VectorAssembler(\n",
    "  inputCols=[f'f{str(x).zfill(2)}' for x in range(datatrain.shape[1])], \n",
    "  outputCol='features'\n",
    ")\n",
    "\n",
    "df = (\n",
    "    vecassembler\n",
    "    .transform(df)\n",
    "    .select('features', 'label')\n",
    "    .withColumn('validationIndicatorCol', f.rand(222437) > 0.7)\n",
    ")\n",
    "df.persist()\n",
    "\n",
    "dftrain = df.filter(\"validationIndicatorCol = 1\")\n",
    "dftrain.persist()\n",
    "\n",
    "dfvalidation = df.filter(\"validationIndicatorCol = 0\")\n",
    "dfvalidation.persist()\n",
    "\n",
    "#(dftrain, dfvalidation) = df.randomSplit([0.7, 0.3], seed=222437)"
   ]
  },
  {
   "cell_type": "code",
   "execution_count": null,
   "id": "10b19aec-d7bc-424e-bbc6-3627ec69b5b1",
   "metadata": {},
   "outputs": [],
   "source": [
    "def objective(trial):\n",
    "    params = {\n",
    "        'n_estimators': 1000,\n",
    "        'missing': np.NaN,\n",
    "        'learning_rate': trial.suggest_float('eta', 0.01, 1),\n",
    "        'max_depth': trial.suggest_int('max_depth', 2, 10),\n",
    "        'subsample': trial.suggest_float('subsample', 0.5, 1),\n",
    "        'colsample_bytree': trial.suggest_float('colsample_bytree', 0.5, 1),\n",
    "    }\n",
    "    \n",
    "    classifier = SparkXGBClassifier(**params)\n",
    "    evaluator = BinaryClassificationEvaluator(metricName='areaUnderROC')\n",
    "    \n",
    "    param_grid = (\n",
    "        ParamGridBuilder()\n",
    "        .addGrid(classifier.learning_rate, [params['learning_rate']])\n",
    "        .addGrid(classifier.max_depth, [params['max_depth']])\n",
    "        .addGrid(classifier.subsample, [params['subsample']])\n",
    "        .addGrid(classifier.colsample_bytree, [params['colsample_bytree']])\n",
    "        .build()\n",
    "    )\n",
    "    \n",
    "    cv = CrossValidator(\n",
    "        estimator=classifier,\n",
    "        estimatorParamMaps=param_grid,\n",
    "        evaluator=evaluator,\n",
    "        numFolds=5\n",
    "    )\n",
    "    cv_model = cv.fit(dftrain)\n",
    "    \n",
    "    score = cv_model.avgMetrics[0]\n",
    "    return score"
   ]
  },
  {
   "cell_type": "code",
   "execution_count": null,
   "id": "c9880488-4ca9-4499-86ae-25e10788dc35",
   "metadata": {},
   "outputs": [],
   "source": [
    "study = optuna.create_study(direction='maximize')\n",
    "study.optimize(objective, n_trials=100)"
   ]
  },
  {
   "cell_type": "code",
   "execution_count": null,
   "id": "9b76790b-ac1e-44d4-b2ae-cb70311e14ef",
   "metadata": {},
   "outputs": [],
   "source": [
    "best_params = study.best_params"
   ]
  },
  {
   "cell_type": "code",
   "execution_count": null,
   "id": "04b8f2fd-3475-4cd1-bd3e-eba1f2e24606",
   "metadata": {},
   "outputs": [],
   "source": [
    "classifier = SparkXGBClassifier(**best_params, early_stopping_rounds=20, validation_indicator_col='validationIndicatorCol', eval_metric='auc')\n",
    "model = classifier.fit(df)"
   ]
  },
  {
   "cell_type": "code",
   "execution_count": null,
   "id": "44bf5587-93af-4cc3-9536-1460b2558523",
   "metadata": {},
   "outputs": [],
   "source": [
    "bst = model.get_booster()"
   ]
  },
  {
   "cell_type": "code",
   "execution_count": null,
   "id": "eae6d7bf-e2ea-43b7-97fe-c79542c47ec9",
   "metadata": {},
   "outputs": [],
   "source": [
    "model.get_feature_importances()"
   ]
  },
  {
   "cell_type": "code",
   "execution_count": null,
   "id": "84f57f5d-a269-48fd-9776-45924c41f095",
   "metadata": {},
   "outputs": [],
   "source": [
    "evaluator = BinaryClassificationEvaluator(metricName='areaUnderROC')\n",
    "\n",
    "score = evaluator.evaluate(model.transform(dfvalidation))\n",
    "print(f'Test score: {score:.3f}')"
   ]
  },
  {
   "cell_type": "code",
   "execution_count": null,
   "id": "87476c3c-1571-4130-a54c-b15390d76f7c",
   "metadata": {},
   "outputs": [],
   "source": [
    "df = (\n",
    "    model\n",
    "    .transform(dfvalidation)\n",
    "    .select(\n",
    "      f.col('label'),\n",
    "      vector_to_array(f.col('probability'))[1].alias('probability')\n",
    "    )\n",
    ")"
   ]
  }
 ],
 "metadata": {
  "kernelspec": {
   "display_name": "Python 3 (ipykernel)",
   "language": "python",
   "name": "python3"
  },
  "language_info": {
   "codemirror_mode": {
    "name": "ipython",
    "version": 3
   },
   "file_extension": ".py",
   "mimetype": "text/x-python",
   "name": "python",
   "nbconvert_exporter": "python",
   "pygments_lexer": "ipython3",
   "version": "3.9.15"
  }
 },
 "nbformat": 4,
 "nbformat_minor": 5
}
