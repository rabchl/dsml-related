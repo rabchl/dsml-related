{
 "cells": [
  {
   "cell_type": "markdown",
   "id": "2cb03e93-a162-4bd9-a05d-5af3b36c7737",
   "metadata": {},
   "source": [
    "---\n",
    "title: \"Training\"\n",
    "date: last-modified\n",
    "format: \n",
    "    html: \n",
    "        code-fold: false\n",
    "jupyter: python3\n",
    "---"
   ]
  },
  {
   "cell_type": "code",
   "execution_count": 1,
   "id": "7a3f292b-6eb1-42b5-80e2-f8e57907998d",
   "metadata": {},
   "outputs": [],
   "source": [
    "import numpy as np\n",
    "\n",
    "import xgboost as xgb"
   ]
  },
  {
   "cell_type": "markdown",
   "id": "5de23ecf-9a8e-4798-a8fa-7dc6d08c98f2",
   "metadata": {},
   "source": [
    "#### DATA AND PARAMETERS"
   ]
  },
  {
   "cell_type": "code",
   "execution_count": 13,
   "id": "1b66eb0f-3079-414a-b40c-670b1a1de427",
   "metadata": {},
   "outputs": [],
   "source": [
    "datatrain = np.random.rand(100, 5)\n",
    "datatest = np.random.rand(20, 5)\n",
    "\n",
    "labeltrain = np.random.randint(2, size=100)\n",
    "labeltest = np.random.randint(2, size=20)"
   ]
  },
  {
   "cell_type": "code",
   "execution_count": 14,
   "id": "72d2529f-5379-4581-9539-a890b9218e49",
   "metadata": {},
   "outputs": [],
   "source": [
    "dtrain = xgb.DMatrix(data=datatrain, label=labeltrain, missing=np.NaN)\n",
    "dtest = xgb.DMatrix(data=datatest, label=labeltest, missing=np.NaN)"
   ]
  },
  {
   "cell_type": "code",
   "execution_count": 27,
   "id": "42a05b0d-7cb1-4a80-972e-e40c274acf3f",
   "metadata": {},
   "outputs": [],
   "source": [
    "params = {\n",
    "    'max_depth': 2,\n",
    "    'eta': 1,\n",
    "    'objective': 'binary:logistic',\n",
    "    'nthread': 4,\n",
    "    'eval_metric': ['auc', 'aucpr']\n",
    "}\n",
    "\n",
    "evallist = [\n",
    "    (dtrain, 'train'),\n",
    "    (dtest, 'test')\n",
    "]\n",
    "\n",
    "NUM_BOOST_ROUND = 500\n",
    "EARLY_STOPPING_ROUNDS = 10"
   ]
  },
  {
   "cell_type": "markdown",
   "id": "c0eb552d-9f0f-4209-a6b4-b316d01496ff",
   "metadata": {
    "tags": []
   },
   "source": [
    "#### TRAINING A XGBOOST MODEL\n",
    "\n",
    "- Validation error needs to decrease at least every `early_stopping_rounds` to continue training.\n",
    "- If early stopping occurs, the model will have two additional fields: `bst.best_score`, `bst.best_iteration`. Note that `xgboost.train()` will return a model from the last iteration, not the best one.\n",
    "- Note that if you specify more than one evaluation metric the last one in `params['eval_metric']` is used for early stopping."
   ]
  },
  {
   "cell_type": "code",
   "execution_count": 28,
   "id": "ef0dbbd6-163c-42ee-8f33-a993bb427cd3",
   "metadata": {},
   "outputs": [
    {
     "name": "stdout",
     "output_type": "stream",
     "text": [
      "[0]\ttrain-auc:0.61554\ttrain-aucpr:0.65699\ttest-auc:0.45455\ttest-aucpr:0.49829\n",
      "[1]\ttrain-auc:0.70833\ttrain-aucpr:0.70037\ttest-auc:0.53535\ttest-aucpr:0.52777\n",
      "[2]\ttrain-auc:0.78543\ttrain-aucpr:0.79481\ttest-auc:0.57071\ttest-aucpr:0.54746\n",
      "[3]\ttrain-auc:0.85346\ttrain-aucpr:0.83614\ttest-auc:0.56061\ttest-aucpr:0.60951\n",
      "[4]\ttrain-auc:0.89291\ttrain-aucpr:0.88707\ttest-auc:0.52525\ttest-aucpr:0.51259\n",
      "[5]\ttrain-auc:0.93015\ttrain-aucpr:0.92545\ttest-auc:0.59596\ttest-aucpr:0.54496\n",
      "[6]\ttrain-auc:0.94767\ttrain-aucpr:0.95130\ttest-auc:0.59596\ttest-aucpr:0.54496\n",
      "[7]\ttrain-auc:0.96397\ttrain-aucpr:0.96571\ttest-auc:0.55556\ttest-aucpr:0.51951\n",
      "[8]\ttrain-auc:0.97524\ttrain-aucpr:0.97912\ttest-auc:0.56566\ttest-aucpr:0.52324\n",
      "[9]\ttrain-auc:0.98088\ttrain-aucpr:0.98185\ttest-auc:0.54545\ttest-aucpr:0.51996\n",
      "[10]\ttrain-auc:0.98531\ttrain-aucpr:0.98684\ttest-auc:0.50505\ttest-aucpr:0.50393\n",
      "[11]\ttrain-auc:0.98631\ttrain-aucpr:0.98656\ttest-auc:0.57576\ttest-aucpr:0.54106\n",
      "[12]\ttrain-auc:0.99195\ttrain-aucpr:0.99167\ttest-auc:0.56566\ttest-aucpr:0.53407\n",
      "[13]\ttrain-auc:0.99517\ttrain-aucpr:0.99471\ttest-auc:0.55556\ttest-aucpr:0.52235\n"
     ]
    }
   ],
   "source": [
    "bst = xgb.train(params, dtrain, NUM_BOOST_ROUND, evals=evallist, early_stopping_rounds=EARLY_STOPPING_ROUNDS)"
   ]
  },
  {
   "cell_type": "code",
   "execution_count": 39,
   "id": "91a4d640-fade-407b-800f-33962437d8d9",
   "metadata": {},
   "outputs": [
    {
     "data": {
      "text/plain": [
       "3"
      ]
     },
     "execution_count": 39,
     "metadata": {},
     "output_type": "execute_result"
    }
   ],
   "source": [
    "bst.best_iteration"
   ]
  },
  {
   "cell_type": "code",
   "execution_count": 40,
   "id": "6044e9d4-246a-4787-94b0-bec25f833a18",
   "metadata": {},
   "outputs": [
    {
     "data": {
      "text/plain": [
       "0.6095077293305602"
      ]
     },
     "execution_count": 40,
     "metadata": {},
     "output_type": "execute_result"
    }
   ],
   "source": [
    "bst.best_score"
   ]
  },
  {
   "cell_type": "code",
   "execution_count": 51,
   "id": "088aa256-8dc4-41b5-aa5b-c3f801dce829",
   "metadata": {
    "tags": []
   },
   "outputs": [
    {
     "name": "stdout",
     "output_type": "stream",
     "text": [
      "[0]\tvalidation_0-auc:0.45455\tvalidation_0-aucpr:0.49829\n",
      "[1]\tvalidation_0-auc:0.53535\tvalidation_0-aucpr:0.52777\n",
      "[2]\tvalidation_0-auc:0.57071\tvalidation_0-aucpr:0.54746\n",
      "[3]\tvalidation_0-auc:0.59091\tvalidation_0-aucpr:0.61996\n",
      "[4]\tvalidation_0-auc:0.57071\tvalidation_0-aucpr:0.54430\n",
      "[5]\tvalidation_0-auc:0.64646\tvalidation_0-aucpr:0.57075\n",
      "[6]\tvalidation_0-auc:0.58586\tvalidation_0-aucpr:0.54497\n",
      "[7]\tvalidation_0-auc:0.55556\tvalidation_0-aucpr:0.53406\n",
      "[8]\tvalidation_0-auc:0.54545\tvalidation_0-aucpr:0.53186\n",
      "[9]\tvalidation_0-auc:0.56566\tvalidation_0-aucpr:0.54329\n",
      "[10]\tvalidation_0-auc:0.54545\tvalidation_0-aucpr:0.53397\n",
      "[11]\tvalidation_0-auc:0.50505\tvalidation_0-aucpr:0.52639\n",
      "[12]\tvalidation_0-auc:0.55556\tvalidation_0-aucpr:0.54172\n",
      "[13]\tvalidation_0-auc:0.52525\tvalidation_0-aucpr:0.52578\n"
     ]
    },
    {
     "data": {
      "text/html": [
       "<style>#sk-container-id-3 {color: black;background-color: white;}#sk-container-id-3 pre{padding: 0;}#sk-container-id-3 div.sk-toggleable {background-color: white;}#sk-container-id-3 label.sk-toggleable__label {cursor: pointer;display: block;width: 100%;margin-bottom: 0;padding: 0.3em;box-sizing: border-box;text-align: center;}#sk-container-id-3 label.sk-toggleable__label-arrow:before {content: \"▸\";float: left;margin-right: 0.25em;color: #696969;}#sk-container-id-3 label.sk-toggleable__label-arrow:hover:before {color: black;}#sk-container-id-3 div.sk-estimator:hover label.sk-toggleable__label-arrow:before {color: black;}#sk-container-id-3 div.sk-toggleable__content {max-height: 0;max-width: 0;overflow: hidden;text-align: left;background-color: #f0f8ff;}#sk-container-id-3 div.sk-toggleable__content pre {margin: 0.2em;color: black;border-radius: 0.25em;background-color: #f0f8ff;}#sk-container-id-3 input.sk-toggleable__control:checked~div.sk-toggleable__content {max-height: 200px;max-width: 100%;overflow: auto;}#sk-container-id-3 input.sk-toggleable__control:checked~label.sk-toggleable__label-arrow:before {content: \"▾\";}#sk-container-id-3 div.sk-estimator input.sk-toggleable__control:checked~label.sk-toggleable__label {background-color: #d4ebff;}#sk-container-id-3 div.sk-label input.sk-toggleable__control:checked~label.sk-toggleable__label {background-color: #d4ebff;}#sk-container-id-3 input.sk-hidden--visually {border: 0;clip: rect(1px 1px 1px 1px);clip: rect(1px, 1px, 1px, 1px);height: 1px;margin: -1px;overflow: hidden;padding: 0;position: absolute;width: 1px;}#sk-container-id-3 div.sk-estimator {font-family: monospace;background-color: #f0f8ff;border: 1px dotted black;border-radius: 0.25em;box-sizing: border-box;margin-bottom: 0.5em;}#sk-container-id-3 div.sk-estimator:hover {background-color: #d4ebff;}#sk-container-id-3 div.sk-parallel-item::after {content: \"\";width: 100%;border-bottom: 1px solid gray;flex-grow: 1;}#sk-container-id-3 div.sk-label:hover label.sk-toggleable__label {background-color: #d4ebff;}#sk-container-id-3 div.sk-serial::before {content: \"\";position: absolute;border-left: 1px solid gray;box-sizing: border-box;top: 0;bottom: 0;left: 50%;z-index: 0;}#sk-container-id-3 div.sk-serial {display: flex;flex-direction: column;align-items: center;background-color: white;padding-right: 0.2em;padding-left: 0.2em;position: relative;}#sk-container-id-3 div.sk-item {position: relative;z-index: 1;}#sk-container-id-3 div.sk-parallel {display: flex;align-items: stretch;justify-content: center;background-color: white;position: relative;}#sk-container-id-3 div.sk-item::before, #sk-container-id-3 div.sk-parallel-item::before {content: \"\";position: absolute;border-left: 1px solid gray;box-sizing: border-box;top: 0;bottom: 0;left: 50%;z-index: -1;}#sk-container-id-3 div.sk-parallel-item {display: flex;flex-direction: column;z-index: 1;position: relative;background-color: white;}#sk-container-id-3 div.sk-parallel-item:first-child::after {align-self: flex-end;width: 50%;}#sk-container-id-3 div.sk-parallel-item:last-child::after {align-self: flex-start;width: 50%;}#sk-container-id-3 div.sk-parallel-item:only-child::after {width: 0;}#sk-container-id-3 div.sk-dashed-wrapped {border: 1px dashed gray;margin: 0 0.4em 0.5em 0.4em;box-sizing: border-box;padding-bottom: 0.4em;background-color: white;}#sk-container-id-3 div.sk-label label {font-family: monospace;font-weight: bold;display: inline-block;line-height: 1.2em;}#sk-container-id-3 div.sk-label-container {text-align: center;}#sk-container-id-3 div.sk-container {/* jupyter's `normalize.less` sets `[hidden] { display: none; }` but bootstrap.min.css set `[hidden] { display: none !important; }` so we also need the `!important` here to be able to override the default hidden behavior on the sphinx rendered scikit-learn.org. See: https://github.com/scikit-learn/scikit-learn/issues/21755 */display: inline-block !important;position: relative;}#sk-container-id-3 div.sk-text-repr-fallback {display: none;}</style><div id=\"sk-container-id-3\" class=\"sk-top-container\"><div class=\"sk-text-repr-fallback\"><pre>XGBClassifier(base_score=0.5, booster=&#x27;gbtree&#x27;, callbacks=None,\n",
       "              colsample_bylevel=1, colsample_bynode=1, colsample_bytree=1,\n",
       "              early_stopping_rounds=10, enable_categorical=False, eta=1,\n",
       "              eval_metric=[&#x27;auc&#x27;, &#x27;aucpr&#x27;], feature_types=None, gamma=0,\n",
       "              gpu_id=0, grow_policy=&#x27;depthwise&#x27;, importance_type=None,\n",
       "              interaction_constraints=&#x27;&#x27;, learning_rate=1, max_bin=256,\n",
       "              max_cat_threshold=64, max_cat_to_onehot=4, max_delta_step=0,\n",
       "              max_depth=2, max_leaves=0, min_child_weight=1, missing=nan,\n",
       "              monotone_constraints=&#x27;()&#x27;, n_estimators=500, n_jobs=4, nthread=4,\n",
       "              num_parallel_tree=1, ...)</pre><b>In a Jupyter environment, please rerun this cell to show the HTML representation or trust the notebook. <br />On GitHub, the HTML representation is unable to render, please try loading this page with nbviewer.org.</b></div><div class=\"sk-container\" hidden><div class=\"sk-item\"><div class=\"sk-estimator sk-toggleable\"><input class=\"sk-toggleable__control sk-hidden--visually\" id=\"sk-estimator-id-3\" type=\"checkbox\" checked><label for=\"sk-estimator-id-3\" class=\"sk-toggleable__label sk-toggleable__label-arrow\">XGBClassifier</label><div class=\"sk-toggleable__content\"><pre>XGBClassifier(base_score=0.5, booster=&#x27;gbtree&#x27;, callbacks=None,\n",
       "              colsample_bylevel=1, colsample_bynode=1, colsample_bytree=1,\n",
       "              early_stopping_rounds=10, enable_categorical=False, eta=1,\n",
       "              eval_metric=[&#x27;auc&#x27;, &#x27;aucpr&#x27;], feature_types=None, gamma=0,\n",
       "              gpu_id=0, grow_policy=&#x27;depthwise&#x27;, importance_type=None,\n",
       "              interaction_constraints=&#x27;&#x27;, learning_rate=1, max_bin=256,\n",
       "              max_cat_threshold=64, max_cat_to_onehot=4, max_delta_step=0,\n",
       "              max_depth=2, max_leaves=0, min_child_weight=1, missing=nan,\n",
       "              monotone_constraints=&#x27;()&#x27;, n_estimators=500, n_jobs=4, nthread=4,\n",
       "              num_parallel_tree=1, ...)</pre></div></div></div></div></div>"
      ],
      "text/plain": [
       "XGBClassifier(base_score=0.5, booster='gbtree', callbacks=None,\n",
       "              colsample_bylevel=1, colsample_bynode=1, colsample_bytree=1,\n",
       "              early_stopping_rounds=10, enable_categorical=False, eta=1,\n",
       "              eval_metric=['auc', 'aucpr'], feature_types=None, gamma=0,\n",
       "              gpu_id=0, grow_policy='depthwise', importance_type=None,\n",
       "              interaction_constraints='', learning_rate=1, max_bin=256,\n",
       "              max_cat_threshold=64, max_cat_to_onehot=4, max_delta_step=0,\n",
       "              max_depth=2, max_leaves=0, min_child_weight=1, missing=nan,\n",
       "              monotone_constraints='()', n_estimators=500, n_jobs=4, nthread=4,\n",
       "              num_parallel_tree=1, ...)"
      ]
     },
     "execution_count": 51,
     "metadata": {},
     "output_type": "execute_result"
    }
   ],
   "source": [
    "clf = xgb.XGBClassifier(n_estimators=NUM_BOOST_ROUND, missing=np.NaN, early_stopping_rounds=EARLY_STOPPING_ROUNDS, tree_method='gpu_hist', **params)\n",
    "clf.fit(datatrain, labeltrain, eval_set=[(datatest, labeltest)])"
   ]
  },
  {
   "cell_type": "code",
   "execution_count": 52,
   "id": "d7ccf55b-a3d1-4225-9c98-13617abdb25c",
   "metadata": {
    "tags": []
   },
   "outputs": [
    {
     "data": {
      "text/plain": [
       "3"
      ]
     },
     "execution_count": 52,
     "metadata": {},
     "output_type": "execute_result"
    }
   ],
   "source": [
    "clf.best_iteration"
   ]
  },
  {
   "cell_type": "code",
   "execution_count": 53,
   "id": "4d18edab-52bf-41a9-92bf-22990063f7fd",
   "metadata": {
    "tags": []
   },
   "outputs": [
    {
     "data": {
      "text/plain": [
       "0.6199609259353032"
      ]
     },
     "execution_count": 53,
     "metadata": {},
     "output_type": "execute_result"
    }
   ],
   "source": [
    "clf.best_score"
   ]
  },
  {
   "cell_type": "code",
   "execution_count": 54,
   "id": "ec2a3c22-9863-4b71-9860-32b56554785b",
   "metadata": {},
   "outputs": [],
   "source": [
    "bst = clf.get_booster()"
   ]
  },
  {
   "cell_type": "markdown",
   "id": "4eb1d112-b7b6-46ca-b84a-60e7bcf345d7",
   "metadata": {
    "tags": []
   },
   "source": [
    "#### SAVING A XGBOOST MODEL"
   ]
  },
  {
   "cell_type": "code",
   "execution_count": 22,
   "id": "b5664d09-0cd6-453c-b77b-53eaab6af281",
   "metadata": {},
   "outputs": [],
   "source": [
    "bst.save_model('0001.json')"
   ]
  },
  {
   "cell_type": "markdown",
   "id": "000d587c-f477-41f8-801b-11a9d07c8e8c",
   "metadata": {
    "tags": []
   },
   "source": [
    "#### DUMPING A XGBOOST MODEL"
   ]
  },
  {
   "cell_type": "code",
   "execution_count": 21,
   "id": "1f3b38d5-f128-4af7-93ba-43fd0c081c01",
   "metadata": {},
   "outputs": [],
   "source": [
    "bst.dump_model('dump.raw.txt')"
   ]
  },
  {
   "cell_type": "markdown",
   "id": "83eb92a0-4f0a-47d7-a71c-48a513e019c9",
   "metadata": {
    "tags": []
   },
   "source": [
    "#### LOADING A XGBOOST MODEL"
   ]
  },
  {
   "cell_type": "code",
   "execution_count": 23,
   "id": "d607e39b-ace0-49bd-95af-88d35c11c283",
   "metadata": {},
   "outputs": [],
   "source": [
    "bst = xgb.Booster({'nthread': 4})\n",
    "bst.load_model('0001.json')"
   ]
  },
  {
   "cell_type": "markdown",
   "id": "8b6a8251-a6ac-47b5-91ba-7fb0a2a25fc2",
   "metadata": {
    "tags": []
   },
   "source": [
    "#### PREDICTIONS WITH XGBOOST"
   ]
  },
  {
   "cell_type": "code",
   "execution_count": 29,
   "id": "3e58fd1f-78a8-49a8-8b5c-bbb4263ccf34",
   "metadata": {},
   "outputs": [],
   "source": [
    "data = np.random.rand(50, 5)\n",
    "dnew = xgb.DMatrix(data)"
   ]
  },
  {
   "cell_type": "code",
   "execution_count": 31,
   "id": "bc48f4b5-3cbb-4595-859e-f2345ab70192",
   "metadata": {},
   "outputs": [],
   "source": [
    "ypred = bst.predict(dnew, iteration_range=(0, bst.best_iteration + 1))"
   ]
  },
  {
   "cell_type": "markdown",
   "id": "05f0d3e9-e92f-4d43-8f06-1ff9db884f46",
   "metadata": {
    "tags": []
   },
   "source": [
    "#### PLOTTING FEATURE IMPORTANCE"
   ]
  },
  {
   "cell_type": "code",
   "execution_count": 35,
   "id": "1a106698-47df-4c99-994b-689ea9e8f973",
   "metadata": {},
   "outputs": [
    {
     "data": {
      "text/plain": [
       "<AxesSubplot: title={'center': 'Feature importance'}, xlabel='F score', ylabel='Features'>"
      ]
     },
     "execution_count": 35,
     "metadata": {},
     "output_type": "execute_result"
    },
    {
     "data": {
      "image/png": "[encoded data removed]",
      "text/plain": [
       "<Figure size 640x480 with 1 Axes>"
      ]
     },
     "metadata": {},
     "output_type": "display_data"
    }
   ],
   "source": [
    "xgb.plot_importance(bst)"
   ]
  }
 ],
 "metadata": {
  "kernelspec": {
   "display_name": "Python 3 (ipykernel)",
   "language": "python",
   "name": "python3"
  },
  "language_info": {
   "codemirror_mode": {
    "name": "ipython",
    "version": 3
   },
   "file_extension": ".py",
   "mimetype": "text/x-python",
   "name": "python",
   "nbconvert_exporter": "python",
   "pygments_lexer": "ipython3",
   "version": "3.9.15"
  }
 },
 "nbformat": 4,
 "nbformat_minor": 5
}
