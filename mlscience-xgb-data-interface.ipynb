{
 "cells": [
  {
   "cell_type": "markdown",
   "id": "2cb03e93-a162-4bd9-a05d-5af3b36c7737",
   "metadata": {},
   "source": [
    "---\n",
    "title: \"Data Interface\"\n",
    "date: last-modified\n",
    "format: \n",
    "    html: \n",
    "        code-fold: false\n",
    "jupyter: python3\n",
    "---"
   ]
  },
  {
   "cell_type": "code",
   "execution_count": 1,
   "id": "6870b4bd-e58c-452e-b680-3d0f7b73108c",
   "metadata": {},
   "outputs": [],
   "source": [
    "import numpy as np\n",
    "import pandas as pd\n",
    "\n",
    "import xgboost as xgb"
   ]
  },
  {
   "cell_type": "markdown",
   "id": "07e095c4-e1fd-4dd3-b7bc-e5244ff97884",
   "metadata": {},
   "source": [
    "#### USING NUMPY"
   ]
  },
  {
   "cell_type": "code",
   "execution_count": 10,
   "id": "c73db3bf-b0aa-4bab-a9d0-1ec54b616e6b",
   "metadata": {},
   "outputs": [],
   "source": [
    "data = np.random.rand(20, 5)\n",
    "label = np.random.randint(2, size=20)\n",
    "weights = np.random.rand(20, 1)"
   ]
  },
  {
   "cell_type": "code",
   "execution_count": 12,
   "id": "77c60f14-66d0-4483-872a-610bc4af3fbb",
   "metadata": {},
   "outputs": [],
   "source": [
    "dtrain = xgb.DMatrix(data=data, label=label, missing=np.NaN, weight=weights)"
   ]
  },
  {
   "cell_type": "markdown",
   "id": "e790a947-65bc-4670-88fd-bf20fee978b5",
   "metadata": {},
   "source": [
    "#### USING PANDAS"
   ]
  },
  {
   "cell_type": "code",
   "execution_count": 14,
   "id": "fd5614c0-8d8f-4995-a223-78ec1a64e56b",
   "metadata": {},
   "outputs": [],
   "source": [
    "data = pd.DataFrame(np.random.rand(20, 5), columns=['cola', 'colb', 'colc', 'cold', 'cole'])\n",
    "label = pd.DataFrame(np.random.randint(2, size=20))\n",
    "weights = pd.DataFrame(np.random.rand(20, 1), columns=['weight'])"
   ]
  },
  {
   "cell_type": "code",
   "execution_count": 15,
   "id": "2dbd18f7-ce46-4350-a08d-ff01a0e48e00",
   "metadata": {},
   "outputs": [],
   "source": [
    "dtrain = xgb.DMatrix(data=data, label=label, missing=np.NaN, weight=weights)"
   ]
  },
  {
   "cell_type": "markdown",
   "id": "978b0a14-d8c1-4ec1-92f6-ede6b8be519f",
   "metadata": {},
   "source": [
    "#### SAVING `DMatrix` INTO A XGBOOST BINARY FILE"
   ]
  },
  {
   "cell_type": "code",
   "execution_count": 9,
   "id": "b8cf0c64-7398-4498-8a25-e6fba008d27a",
   "metadata": {},
   "outputs": [],
   "source": [
    "dtrain.save_binary('train.buffer')"
   ]
  },
  {
   "cell_type": "markdown",
   "id": "72e3c06f-7e6b-4930-9809-2b9b56506b9d",
   "metadata": {},
   "source": [
    "#### LOADING A XGBOOST BINARY FILE INTO `DMatrix`"
   ]
  },
  {
   "cell_type": "code",
   "execution_count": 16,
   "id": "4464c4eb-d3d8-4e0c-95a2-16cd43ff7949",
   "metadata": {},
   "outputs": [],
   "source": [
    "dtrain = xgb.DMatrix('train.buffer')"
   ]
  }
 ],
 "metadata": {
  "kernelspec": {
   "display_name": "Python 3 (ipykernel)",
   "language": "python",
   "name": "python3"
  },
  "language_info": {
   "codemirror_mode": {
    "name": "ipython",
    "version": 3
   },
   "file_extension": ".py",
   "mimetype": "text/x-python",
   "name": "python",
   "nbconvert_exporter": "python",
   "pygments_lexer": "ipython3",
   "version": "3.9.15"
  }
 },
 "nbformat": 4,
 "nbformat_minor": 5
}
