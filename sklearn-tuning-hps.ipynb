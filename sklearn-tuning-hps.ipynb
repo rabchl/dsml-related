{
 "cells": [
  {
   "cell_type": "markdown",
   "id": "c8f5a3f3-af13-4047-a986-e3b27a5bcc43",
   "metadata": {},
   "source": [
    "---\n",
    "title: \"Sklearn Hyperparameter Tuning\"\n",
    "format: \n",
    "    html: \n",
    "        code-fold: true\n",
    "jupyter: python3\n",
    "---"
   ]
  },
  {
   "cell_type": "markdown",
   "id": "a05d6c1b-ea2f-43d5-8ebb-1c6a1badde81",
   "metadata": {},
   "source": [
    "## Grid Search\n",
    "\n",
    "Here we go again "
   ]
  },
  {
   "cell_type": "code",
   "execution_count": 1,
   "id": "a7760f74-a046-4638-9faf-3864233fb438",
   "metadata": {},
   "outputs": [],
   "source": [
    "import numpy as np\n",
    "import pandas as pd\n",
    "\n",
    "from sklearn.model_selection import GridSearchCV"
   ]
  }
 ],
 "metadata": {
  "kernelspec": {
   "display_name": "Python 3 (ipykernel)",
   "language": "python",
   "name": "python3"
  },
  "language_info": {
   "codemirror_mode": {
    "name": "ipython",
    "version": 3
   },
   "file_extension": ".py",
   "mimetype": "text/x-python",
   "name": "python",
   "nbconvert_exporter": "python",
   "pygments_lexer": "ipython3",
   "version": "3.9.13"
  }
 },
 "nbformat": 4,
 "nbformat_minor": 5
}
