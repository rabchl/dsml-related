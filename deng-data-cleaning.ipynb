{
 "cells": [
  {
   "cell_type": "markdown",
   "id": "c8f5a3f3-af13-4047-a986-e3b27a5bcc43",
   "metadata": {},
   "source": [
    "---\n",
    "title: \"Cleaning Data\"\n",
    "date: last-modified\n",
    "format: \n",
    "    html: \n",
    "        code-fold: false\n",
    "jupyter: python3\n",
    "---"
   ]
  },
  {
   "cell_type": "markdown",
   "id": "f55b933b-982a-461d-bd9e-e8cbb192a9e4",
   "metadata": {},
   "source": [
    "Data cleaning is the process of polishing raw data to _keep the entries consistent_.\n",
    "\n",
    "- Filling up empty fields with default values\n",
    "- Removing characters that are not alpha-numeric\n",
    "- Removing stop words\n",
    "- Removing HTML tags\n",
    "\n",
    "The process also focuses on retaining relevant information from the collected data. Drop unnecessary components of the collected information.\n",
    "\n",
    "It is important to separate whether information were missing in the original source and not missed out due to errors throughout the collection process"
   ]
  },
  {
   "cell_type": "code",
   "execution_count": 1,
   "id": "a9383da6-cf99-4e7c-96c3-0601c3189361",
   "metadata": {},
   "outputs": [],
   "source": [
    "import pandas as pd"
   ]
  },
  {
   "cell_type": "code",
   "execution_count": null,
   "id": "b51717c3-6f85-4601-b798-89890246ee4a",
   "metadata": {},
   "outputs": [],
   "source": [
    "pdf = pd.read_csv('.csv')\n",
    "pdf.some_column.fillna(value=\"na\", inplace=True)"
   ]
  }
 ],
 "metadata": {
  "kernelspec": {
   "display_name": "Python 3 (ipykernel)",
   "language": "python",
   "name": "python3"
  },
  "language_info": {
   "codemirror_mode": {
    "name": "ipython",
    "version": 3
   },
   "file_extension": ".py",
   "mimetype": "text/x-python",
   "name": "python",
   "nbconvert_exporter": "python",
   "pygments_lexer": "ipython3",
   "version": "3.9.15"
  }
 },
 "nbformat": 4,
 "nbformat_minor": 5
}
