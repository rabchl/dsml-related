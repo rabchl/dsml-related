{
 "cells": [
  {
   "cell_type": "markdown",
   "id": "2cb03e93-a162-4bd9-a05d-5af3b36c7737",
   "metadata": {},
   "source": [
    "---\n",
    "title: \"Parameters\"\n",
    "date: last-modified\n",
    "format: \n",
    "    html: \n",
    "        code-fold: false\n",
    "jupyter: python3\n",
    "---"
   ]
  },
  {
   "cell_type": "code",
   "execution_count": 1,
   "id": "6870b4bd-e58c-452e-b680-3d0f7b73108c",
   "metadata": {},
   "outputs": [],
   "source": [
    "params = {\n",
    "    'max_depth': 2,\n",
    "    'eta': 1,\n",
    "    'objective': 'binary:logistic'\n",
    "}"
   ]
  },
  {
   "cell_type": "code",
   "execution_count": 2,
   "id": "bee334cf-c4ee-4c6a-9812-49fc662a2252",
   "metadata": {},
   "outputs": [],
   "source": [
    "params['nthread'] = 4\n",
    "params['eval_metric'] = ['auc', 'ams@0']"
   ]
  },
  {
   "cell_type": "code",
   "execution_count": 4,
   "id": "635dc06b-45e1-4663-9c85-e3a77a199940",
   "metadata": {},
   "outputs": [],
   "source": [
    "evallist = [\n",
    "    (dtrain, 'train'),\n",
    "    (dvalid, 'valid')\n",
    "]"
   ]
  },
  {
   "cell_type": "code",
   "execution_count": 6,
   "id": "8bf829dd-6bf3-4454-84ec-43a93d34e706",
   "metadata": {},
   "outputs": [
    {
     "data": {
      "text/plain": [
       "{'max_depth': 2,\n",
       " 'eta': 1,\n",
       " 'objective': 'binary:logistic',\n",
       " 'nthread': 4,\n",
       " 'eval_metric': ['auc', 'ams@0']}"
      ]
     },
     "execution_count": 6,
     "metadata": {},
     "output_type": "execute_result"
    }
   ],
   "source": [
    "params"
   ]
  }
 ],
 "metadata": {
  "kernelspec": {
   "display_name": "Python 3 (ipykernel)",
   "language": "python",
   "name": "python3"
  },
  "language_info": {
   "codemirror_mode": {
    "name": "ipython",
    "version": 3
   },
   "file_extension": ".py",
   "mimetype": "text/x-python",
   "name": "python",
   "nbconvert_exporter": "python",
   "pygments_lexer": "ipython3",
   "version": "3.9.15"
  }
 },
 "nbformat": 4,
 "nbformat_minor": 5
}
