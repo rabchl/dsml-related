{
 "cells": [
  {
   "cell_type": "markdown",
   "id": "c8f5a3f3-af13-4047-a986-e3b27a5bcc43",
   "metadata": {},
   "source": [
    "---\n",
    "title: \"Collecting JSON Data\"\n",
    "date: last-modified\n",
    "format: \n",
    "    html: \n",
    "        code-fold: false\n",
    "jupyter: python3\n",
    "---"
   ]
  },
  {
   "cell_type": "markdown",
   "id": "f55b933b-982a-461d-bd9e-e8cbb192a9e4",
   "metadata": {},
   "source": [
    "JSON stores data as key-value and/or key-array fields. JSON is considered interchangeable or program independent since most programming languages support key-value data structures.\n",
    "\n",
    "During data collection process, the information is extracted as-is so that it can be kept in the original form."
   ]
  },
  {
   "cell_type": "code",
   "execution_count": 8,
   "id": "a7760f74-a046-4638-9faf-3864233fb438",
   "metadata": {},
   "outputs": [],
   "source": [
    "import json\n",
    "import urllib.request as request"
   ]
  },
  {
   "cell_type": "code",
   "execution_count": 3,
   "id": "dbb760b6-551c-4a90-8525-81bab6dad7b6",
   "metadata": {},
   "outputs": [],
   "source": [
    "response = request.urlopen('https://www.reddit.com/r/all.json')"
   ]
  },
  {
   "cell_type": "code",
   "execution_count": 5,
   "id": "4a315ec4-eb9f-4d9c-8d36-27965fe5056d",
   "metadata": {},
   "outputs": [],
   "source": [
    "source = response.read()"
   ]
  },
  {
   "cell_type": "code",
   "execution_count": 9,
   "id": "d221f3ea-967e-407b-9122-64a81c7c8cb6",
   "metadata": {},
   "outputs": [],
   "source": [
    "json_data = json.loads(source)"
   ]
  },
  {
   "cell_type": "code",
   "execution_count": 30,
   "id": "fa215699-4332-4121-8ed0-8f484a2fd5a1",
   "metadata": {},
   "outputs": [
    {
     "data": {
      "text/plain": [
       "{}"
      ]
     },
     "execution_count": 30,
     "metadata": {},
     "output_type": "execute_result"
    }
   ],
   "source": [
    "json_data['data']['children'][0]['data']['media_embed']"
   ]
  }
 ],
 "metadata": {
  "kernelspec": {
   "display_name": "Python 3 (ipykernel)",
   "language": "python",
   "name": "python3"
  },
  "language_info": {
   "codemirror_mode": {
    "name": "ipython",
    "version": 3
   },
   "file_extension": ".py",
   "mimetype": "text/x-python",
   "name": "python",
   "nbconvert_exporter": "python",
   "pygments_lexer": "ipython3",
   "version": "3.9.13"
  }
 },
 "nbformat": 4,
 "nbformat_minor": 5
}
