{
 "cells": [
  {
   "cell_type": "markdown",
   "id": "c8f5a3f3-af13-4047-a986-e3b27a5bcc43",
   "metadata": {},
   "source": [
    "---\n",
    "title: \"Collecting HTML Data\"\n",
    "date: last-modified\n",
    "format: \n",
    "    html: \n",
    "        code-fold: false\n",
    "jupyter: python3\n",
    "---"
   ]
  },
  {
   "cell_type": "markdown",
   "id": "a05d6c1b-ea2f-43d5-8ebb-1c6a1badde81",
   "metadata": {
    "tags": []
   },
   "source": [
    "Collect HTML and save it in CSV format"
   ]
  },
  {
   "cell_type": "code",
   "execution_count": 1,
   "id": "a7760f74-a046-4638-9faf-3864233fb438",
   "metadata": {},
   "outputs": [],
   "source": [
    "import requests\n",
    "from bs4 import BeautifulSoup"
   ]
  },
  {
   "cell_type": "code",
   "execution_count": 94,
   "id": "678b9210-f753-430d-b293-898e4d35836a",
   "metadata": {
    "tags": []
   },
   "outputs": [],
   "source": [
    "response = requests.get(url='https://developer.mozilla.org/')"
   ]
  },
  {
   "cell_type": "code",
   "execution_count": 95,
   "id": "8667e741-777e-4317-b761-a12cb5f97cb4",
   "metadata": {},
   "outputs": [],
   "source": [
    "html_soup = BeautifulSoup(response.text, 'html.parser')"
   ]
  },
  {
   "cell_type": "code",
   "execution_count": 96,
   "id": "d6d590d5-037a-44ca-a711-cbe5709d14a7",
   "metadata": {
    "tags": []
   },
   "outputs": [
    {
     "data": {
      "text/plain": [
       "[<a href=\"#content\" id=\"skip-main\">Skip to main content</a>,\n",
       " <a href=\"#top-nav-search-input\" id=\"skip-search\">Skip to search</a>]"
      ]
     },
     "execution_count": 96,
     "metadata": {},
     "output_type": "execute_result"
    }
   ],
   "source": [
    "# Find all <a> tags with href in it, returns a list\n",
    "html_soup.find_all('a', href=True)[:2]"
   ]
  },
  {
   "cell_type": "code",
   "execution_count": 97,
   "id": "a42ef66a-c260-456b-97ab-586cd29df41c",
   "metadata": {
    "tags": []
   },
   "outputs": [
    {
     "data": {
      "text/plain": [
       "-1"
      ]
     },
     "execution_count": 97,
     "metadata": {},
     "output_type": "execute_result"
    }
   ],
   "source": [
    "# Convert a PageElement to a string and perform string operations\n",
    "str(a).find(\"something\")"
   ]
  },
  {
   "cell_type": "code",
   "execution_count": 106,
   "id": "56ca6b1c-527e-4d89-b50b-568d32255280",
   "metadata": {},
   "outputs": [
    {
     "data": {
      "text/plain": [
       "1"
      ]
     },
     "execution_count": 106,
     "metadata": {},
     "output_type": "execute_result"
    }
   ],
   "source": [
    "# Select to extract the text inside a div tag with a specific id\n",
    "len(html_soup.select('div#root'))"
   ]
  },
  {
   "cell_type": "code",
   "execution_count": 121,
   "id": "9069d237-0e1b-4c46-b1fd-738888ecb0fe",
   "metadata": {
    "tags": []
   },
   "outputs": [
    {
     "data": {
      "text/plain": [
       "[<div class=\"submenu-icon\"></div>,\n",
       " <div class=\"submenu-icon html\"></div>,\n",
       " <div class=\"submenu-icon css\"></div>,\n",
       " <div class=\"submenu-icon javascript\"></div>,\n",
       " <div class=\"submenu-icon http\"></div>,\n",
       " <div class=\"submenu-icon apis\"></div>,\n",
       " <div class=\"submenu-icon\"></div>,\n",
       " <div class=\"submenu-icon\"></div>,\n",
       " <div class=\"submenu-icon learn\"></div>,\n",
       " <div class=\"submenu-icon learn\"></div>,\n",
       " <div class=\"submenu-icon html\"></div>,\n",
       " <div class=\"submenu-icon css\"></div>,\n",
       " <div class=\"submenu-icon javascript\"></div>,\n",
       " <div class=\"submenu-icon\"></div>,\n",
       " <div class=\"submenu-icon\"></div>,\n",
       " <div class=\"submenu-icon\"></div>,\n",
       " <div class=\"submenu-icon\"></div>]"
      ]
     },
     "execution_count": 121,
     "metadata": {},
     "output_type": "execute_result"
    }
   ],
   "source": [
    "# Find all div tags of a specific class\n",
    "html_soup.find_all('div', class_=\"submenu-icon\")"
   ]
  },
  {
   "cell_type": "code",
   "execution_count": 125,
   "id": "64d0e5cc-f8d7-4526-babc-18d6abce3b5e",
   "metadata": {
    "tags": []
   },
   "outputs": [
    {
     "data": {
      "text/plain": [
       "'/assets/mdn_contributor.png'"
      ]
     },
     "execution_count": 125,
     "metadata": {},
     "output_type": "execute_result"
    }
   ],
   "source": [
    "# Images with src attributes\n",
    "html_soup.select(\"img\")[0][\"src\"]"
   ]
  }
 ],
 "metadata": {
  "kernelspec": {
   "display_name": "Python 3 (ipykernel)",
   "language": "python",
   "name": "python3"
  },
  "language_info": {
   "codemirror_mode": {
    "name": "ipython",
    "version": 3
   },
   "file_extension": ".py",
   "mimetype": "text/x-python",
   "name": "python",
   "nbconvert_exporter": "python",
   "pygments_lexer": "ipython3",
   "version": "3.9.13"
  }
 },
 "nbformat": 4,
 "nbformat_minor": 5
}
